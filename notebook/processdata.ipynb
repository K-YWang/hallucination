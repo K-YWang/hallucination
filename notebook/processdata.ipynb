{
 "cells": [
  {
   "cell_type": "code",
   "execution_count": null,
   "id": "71683472",
   "metadata": {},
   "outputs": [
    {
     "name": "stderr",
     "output_type": "stream",
     "text": [
      "100%|██████████| 1632/1632 [00:26<00:00, 62.66it/s]"
     ]
    },
    {
     "name": "stdout",
     "output_type": "stream",
     "text": [
      "✅ 完成！共保存 1632 张图像和对应文本到：\n",
      "📁 ../examples/prompt_images\n",
      "📄 ../examples/sentences.txt\n"
     ]
    },
    {
     "name": "stderr",
     "output_type": "stream",
     "text": [
      "\n"
     ]
    }
   ],
   "source": [
    "import os\n",
    "import pandas as pd\n",
    "from PIL import Image\n",
    "from io import BytesIO\n",
    "from tqdm import tqdm\n",
    "\n",
    "# ============ 路径设置 ============\n",
    "parquet_path = '../data/raw/p2_muse512/data/train-00000-of-00001-d56c6394e70cbcea.parquet'\n",
    "output_image_dir = '../examples/p2/prompt_images'\n",
    "output_text_path = '../examples/p2/sentences.txt'\n",
    "\n",
    "os.makedirs(output_image_dir, exist_ok=True)\n",
    "\n",
    "# ============ 读取 parquet ============\n",
    "df = pd.read_parquet(parquet_path)\n",
    "\n",
    "# ============ 遍历并处理 ============\n",
    "sentences = []\n",
    "img_idx = 0\n",
    "\n",
    "for idx, row in tqdm(df.iterrows(), total=len(df)):\n",
    "    sentence = row.get('sentence_text_knowledge') or row.get('Prompt', '').strip()\n",
    "    image_dict = row['images']\n",
    "\n",
    "    if not sentence:\n",
    "        continue\n",
    "\n",
    "    # 图像解码\n",
    "    if isinstance(image_dict, dict) and 'bytes' in image_dict:\n",
    "        try:\n",
    "            img = Image.open(BytesIO(image_dict['bytes'])).convert(\"RGB\")\n",
    "        except Exception as e:\n",
    "            print(f\"❌ 图像解析失败 idx={idx}: {e}\")\n",
    "            continue\n",
    "    else:\n",
    "        print(f\"❌ 无效图像格式 idx={idx}\")\n",
    "        continue\n",
    "\n",
    "    # 保存图像为 0.png, 1.png, ...\n",
    "    img_path = os.path.join(output_image_dir, f\"{img_idx}.png\")\n",
    "    try:\n",
    "        img.save(img_path, format=\"PNG\")\n",
    "    except Exception as e:\n",
    "        print(f\"❌ 图像保存失败 idx={idx}: {e}\")\n",
    "        continue\n",
    "\n",
    "    # 保存文本（仅保留句子）\n",
    "    sentence = sentence.replace(\"\\n\", \" \").replace(\"\\t\", \" \").strip()\n",
    "    sentences.append(sentence)\n",
    "\n",
    "    img_idx += 1\n",
    "\n",
    "# 写入纯文本文件\n",
    "with open(output_text_path, \"w\", encoding=\"utf-8\") as fout:\n",
    "    fout.write(\"\\n\".join(sentences))\n",
    "\n",
    "print(f\"✅ 完成！共保存 {img_idx} 张图像和对应文本到：\\n📁 {output_image_dir}\\n📄 {output_text_path}\")"
   ]
  },
  {
   "cell_type": "code",
   "execution_count": 11,
   "id": "6cee9480",
   "metadata": {},
   "outputs": [],
   "source": [
    "import json\n",
    "import os\n",
    "\n",
    "# === 参数区（你可以改这里）===\n",
    "jsonl_path = \"../data/raw/t2i_factualbench/data/prompts/text_injection/SKCM/prompt.jsonl\"   # 原始jsonl路径\n",
    "output_path = \"../examples/SKCM/sentences.txt\"  # 输出文件路径\n",
    "n = 612  # 要提取的条目数量 n+1 条（即从第0到第n条）\n",
    "\n",
    "# 创建输出文件夹（如果没有）\n",
    "os.makedirs(os.path.dirname(output_path), exist_ok=True)\n",
    "\n",
    "# 开始处理\n",
    "with open(jsonl_path, 'r', encoding='utf-8') as f_in, open(output_path, 'w', encoding='utf-8') as f_out:\n",
    "    for i, line in enumerate(f_in):\n",
    "        if i > n:\n",
    "            break\n",
    "        try:\n",
    "            data = json.loads(line.strip())\n",
    "            sentence = data.get(\"sentence_text_knowledge\", \"\")\n",
    "            if sentence:\n",
    "                f_out.write(sentence + '\\n')\n",
    "        except json.JSONDecodeError as e:\n",
    "            print(f\"JSON解析失败 at line {i}: {e}\")\n"
   ]
  }
 ],
 "metadata": {
  "kernelspec": {
   "display_name": "hallxx",
   "language": "python",
   "name": "python3"
  },
  "language_info": {
   "codemirror_mode": {
    "name": "ipython",
    "version": 3
   },
   "file_extension": ".py",
   "mimetype": "text/x-python",
   "name": "python",
   "nbconvert_exporter": "python",
   "pygments_lexer": "ipython3",
   "version": "3.10.18"
  }
 },
 "nbformat": 4,
 "nbformat_minor": 5
}
