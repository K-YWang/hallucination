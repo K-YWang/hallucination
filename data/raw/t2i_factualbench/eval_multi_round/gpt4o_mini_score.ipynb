{
 "cells": [
  {
   "cell_type": "code",
   "execution_count": null,
   "metadata": {},
   "outputs": [],
   "source": [
    "import re\n",
    "import jsonlines\n",
    "import json\n",
    "import glob\n",
    "\n",
    "def extract_concept_rating(text):\n",
    "    # 使用正则表达式查找分数\n",
    "    match = re.search(r'Concept Rating:\\s*(\\d+)', text)\n",
    "    if match:\n",
    "        return int(match.group(1))\n",
    "    else:\n",
    "        return None  # 如果没有找到分数，返回None\n",
    "# Elements interaction Rate: 3\n",
    "def extract_whole_rating(text):\n",
    "    # 注意正则表达式的模式\n",
    "    match_0 = re.search(r'Elements Integration Rate:\\s*(\\d+)', text)\n",
    "    match_1 = re.search(r'Prompt Following Rate:\\s*(\\d+)', text)\n",
    "    \n",
    "    if match_0 and match_1:\n",
    "        return [int(match_0.group(1)), int(match_1.group(1))]\n",
    "    else:\n",
    "        print(text)\n",
    "        print(f'Match 0: {match_0}')\n",
    "        print(f'Match 1: {match_1}')\n",
    "        return [None, None]  # 如果没有找到分数，返回None"
   ]
  },
  {
   "cell_type": "code",
   "execution_count": null,
   "metadata": {},
   "outputs": [],
   "source": [
    "gpt4o_concept_score = []\n",
    "gpt4o_whole_score = []\n",
    "\n",
    "folder_path = \"/mnt/workspace/ziwei/MKC_results/sd3/level_one_4o_mini\"\n",
    "\n",
    "json_files = [file for file in os.listdir(folder_path) if file.endswith('.json')]\n",
    "\n",
    "with open(folder_path+\"score.txt\", 'w') as writer:\n",
    "    for json_name in json_files:\n",
    "        with jsonlines.open(json_name, 'r') as reader:\n",
    "            for line in reader:\n",
    "                concept_score = []\n",
    "                for part in line[\"part\"]:\n",
    "                    #print(part[\"gpt4o_reasponse\"])\n",
    "                    concept_score.append(extract_rating(part[\"gpt4o_reasponse\"]))\n",
    "                whole_score = extract_whole_rating(line[\"whole\"])\n",
    "                # print(\"Line:\", line[\"whole\"])\n",
    "                print(\"concept:\", concept_score)\n",
    "                print(\"whole:\", whole_score)\n",
    "                line[\"score\"] = {\"concept_score\": concept_score, \"whole_score\": whole_score}\n",
    "                writer.write(line)\n",
    "\n",
    "\n",
    "# gpt4o_mini_concept_score = []\n",
    "# for line in reader_mini:\n",
    "#     concept_score = []\n",
    "#     for part in line[\"part\"]:\n",
    "#         #print(part[\"gpt4o_reasponse\"])\n",
    "#         concept_score.append(extract_rating(part[\"gpt4o_reasponse\"]))\n",
    "#     #print(concept_score)\n",
    "#     gpt4o_mini_concept_score.append(concept_score)\n",
    "\n",
    "\n",
    "# print(gpt4o_concept_score)\n",
    "# print(gpt4o_mini_concept_score)"
   ]
  }
 ],
 "metadata": {
  "kernelspec": {
   "display_name": "sd3_hzw",
   "language": "python",
   "name": "python3"
  },
  "language_info": {
   "codemirror_mode": {
    "name": "ipython",
    "version": 3
   },
   "file_extension": ".py",
   "mimetype": "text/x-python",
   "name": "python",
   "nbconvert_exporter": "python",
   "pygments_lexer": "ipython3",
   "version": "3.10.14"
  }
 },
 "nbformat": 4,
 "nbformat_minor": 2
}
